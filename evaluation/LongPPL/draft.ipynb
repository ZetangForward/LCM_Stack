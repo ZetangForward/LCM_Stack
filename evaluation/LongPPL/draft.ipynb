{
 "cells": [
  {
   "cell_type": "code",
   "execution_count": 13,
   "metadata": {},
   "outputs": [],
   "source": [
    "from datasets import load_dataset\n",
    "\n",
    "\n",
    "\n",
    "input_texts = load_dataset(\"/mnt/petrelfs/tangzecheng/LCM_Stack/evaluation/LongPPL/data/govreport-test-tokenized\")"
   ]
  },
  {
   "cell_type": "code",
   "execution_count": 14,
   "metadata": {},
   "outputs": [],
   "source": [
    "s = input_texts[\"test\"][:50]"
   ]
  },
  {
   "cell_type": "code",
   "execution_count": 15,
   "metadata": {},
   "outputs": [],
   "source": [
    "st = set()\n",
    "for i in range(50):\n",
    "    st.add(len(s['input_ids'][i]))"
   ]
  },
  {
   "cell_type": "code",
   "execution_count": 17,
   "metadata": {},
   "outputs": [
    {
     "data": {
      "text/plain": [
       "[1970,\n",
       " 2544,\n",
       " 4690,\n",
       " 5797,\n",
       " 5834,\n",
       " 5977,\n",
       " 6024,\n",
       " 6168,\n",
       " 6811,\n",
       " 6867,\n",
       " 7536,\n",
       " 7551,\n",
       " 7763,\n",
       " 8055,\n",
       " 8073,\n",
       " 8392,\n",
       " 9242,\n",
       " 9378,\n",
       " 9703,\n",
       " 9905,\n",
       " 9955,\n",
       " 10133,\n",
       " 10242,\n",
       " 10337,\n",
       " 10681,\n",
       " 10939,\n",
       " 10944,\n",
       " 10974,\n",
       " 11302,\n",
       " 11441,\n",
       " 12339,\n",
       " 12426,\n",
       " 12697,\n",
       " 13155,\n",
       " 13156,\n",
       " 13843,\n",
       " 16090,\n",
       " 17016,\n",
       " 17577,\n",
       " 17840,\n",
       " 18015,\n",
       " 18731,\n",
       " 18831,\n",
       " 20403,\n",
       " 22033,\n",
       " 24615,\n",
       " 27612,\n",
       " 27617,\n",
       " 35333,\n",
       " 52325]"
      ]
     },
     "execution_count": 17,
     "metadata": {},
     "output_type": "execute_result"
    }
   ],
   "source": [
    "sorted(st)"
   ]
  },
  {
   "cell_type": "code",
   "execution_count": 10,
   "metadata": {},
   "outputs": [
    {
     "data": {
      "text/html": [
       "<div>\n",
       "<style scoped>\n",
       "    .dataframe tbody tr th:only-of-type {\n",
       "        vertical-align: middle;\n",
       "    }\n",
       "\n",
       "    .dataframe tbody tr th {\n",
       "        vertical-align: top;\n",
       "    }\n",
       "\n",
       "    .dataframe thead th {\n",
       "        text-align: right;\n",
       "    }\n",
       "</style>\n",
       "<table border=\"1\" class=\"dataframe\">\n",
       "  <thead>\n",
       "    <tr style=\"text-align: right;\">\n",
       "      <th></th>\n",
       "      <th>Unnamed: 0</th>\n",
       "      <th>longppl</th>\n",
       "      <th>ppl</th>\n",
       "    </tr>\n",
       "  </thead>\n",
       "  <tbody>\n",
       "    <tr>\n",
       "      <th>0</th>\n",
       "      <td>0</td>\n",
       "      <td>2.36</td>\n",
       "      <td>6.64</td>\n",
       "    </tr>\n",
       "  </tbody>\n",
       "</table>\n",
       "</div>"
      ],
      "text/plain": [
       "   Unnamed: 0  longppl   ppl\n",
       "0           0     2.36  6.64"
      ]
     },
     "execution_count": 10,
     "metadata": {},
     "output_type": "execute_result"
    }
   ],
   "source": [
    "import pandas as pd\n",
    "\n",
    "pd.read_csv(\"./results/full_v2-global_step150/ppls.csv\")"
   ]
  },
  {
   "cell_type": "code",
   "execution_count": 24,
   "metadata": {},
   "outputs": [
    {
     "data": {
      "text/plain": [
       "dict_keys(['id', 'pid', 'input', 'output', 'input_ids', 'attention_mask', 'tokenized_len'])"
      ]
     },
     "execution_count": 24,
     "metadata": {},
     "output_type": "execute_result"
    }
   ],
   "source": [
    "s.keys()"
   ]
  },
  {
   "cell_type": "code",
   "execution_count": 30,
   "metadata": {},
   "outputs": [
    {
     "data": {
      "text/plain": [
       "[50, 50, 50, 50, 50, 50, 50]"
      ]
     },
     "execution_count": 30,
     "metadata": {},
     "output_type": "execute_result"
    }
   ],
   "source": [
    "[len(v) for v in s.values()]"
   ]
  },
  {
   "cell_type": "code",
   "execution_count": 7,
   "metadata": {},
   "outputs": [
    {
     "name": "stdout",
     "output_type": "stream",
     "text": [
      "nohup: 忽略输入\n",
      "Adapter Path:  \n",
      "Pid: 115518\n",
      "begin to eval on 1 gpus | tensor parallel size is 1...\n",
      "split_gpu_list: ['0']\n",
      "\n",
      "Filter:   0%|          | 0/973 [00:00<?, ? examples/s]\n",
      "Filter: 100%|██████████| 973/973 [00:10<00:00, 91.77 examples/s]\n",
      "Filter: 100%|██████████| 973/973 [00:10<00:00, 91.70 examples/s]\n",
      "The model was loaded with use_flash_attention_2=True, which is deprecated and may be removed in a future release. Please use `attn_implementation=\"flash_attention_2\"` instead.\n",
      "\n",
      "Loading checkpoint shards:   0%|          | 0/3 [00:00<?, ?it/s]\n",
      "Loading checkpoint shards:  33%|███▎      | 1/3 [00:08<00:17,  9.00s/it]\n",
      "Loading checkpoint shards:  67%|██████▋   | 2/3 [00:17<00:08,  8.84s/it]\n",
      "Loading checkpoint shards: 100%|██████████| 3/3 [00:25<00:00,  8.54s/it]\n",
      "Loading checkpoint shards: 100%|██████████| 3/3 [00:25<00:00,  8.64s/it]\n",
      "model_config: None\n",
      "\n",
      "  0%|          | 0/50 [00:00<?, ?it/s]\n",
      "  0%|          | 0/50 [00:07<?, ?it/s, longppl=2.28, ppl=3.84]\n",
      "  2%|▏         | 1/50 [00:07<06:01,  7.37s/it, longppl=2.28, ppl=3.84]\n",
      "  2%|▏         | 1/50 [00:15<06:01,  7.37s/it, longppl=2.74, ppl=4.12]\n",
      "  4%|▍         | 2/50 [00:15<06:24,  8.02s/it, longppl=2.74, ppl=4.12]\n",
      "  4%|▍         | 2/50 [00:19<06:24,  8.02s/it, longppl=2.68, ppl=4.07]\n",
      "  6%|▌         | 3/50 [00:19<04:52,  6.23s/it, longppl=2.68, ppl=4.07]\n",
      "  6%|▌         | 3/50 [00:28<04:52,  6.23s/it, longppl=2.7, ppl=4.01] \n",
      "  8%|▊         | 4/50 [00:28<05:26,  7.09s/it, longppl=2.7, ppl=4.01]\n",
      "  8%|▊         | 4/50 [00:35<05:26,  7.09s/it, longppl=2.71, ppl=3.54]\n",
      " 10%|█         | 5/50 [00:35<05:15,  7.00s/it, longppl=2.71, ppl=3.54]\n",
      " 10%|█         | 5/50 [00:39<05:15,  7.00s/it, longppl=2.62, ppl=3.62]\n",
      " 12%|█▏        | 6/50 [00:39<04:23,  5.99s/it, longppl=2.62, ppl=3.62]\n",
      " 12%|█▏        | 6/50 [00:45<04:23,  5.99s/it, longppl=2.6, ppl=3.73] \n",
      " 14%|█▍        | 7/50 [00:45<04:16,  5.95s/it, longppl=2.6, ppl=3.73]\n",
      " 14%|█▍        | 7/50 [00:49<04:16,  5.95s/it, longppl=2.59, ppl=3.78]\n",
      " 16%|█▌        | 8/50 [00:49<03:49,  5.46s/it, longppl=2.59, ppl=3.78]\n",
      " 16%|█▌        | 8/50 [00:54<03:49,  5.46s/it, longppl=2.51, ppl=3.76]\n",
      " 18%|█▊        | 9/50 [00:54<03:42,  5.42s/it, longppl=2.51, ppl=3.76]\n",
      " 18%|█▊        | 9/50 [00:59<03:42,  5.42s/it, longppl=2.5, ppl=3.82] \n",
      " 20%|██        | 10/50 [00:59<03:23,  5.09s/it, longppl=2.5, ppl=3.82]\n",
      " 20%|██        | 10/50 [01:03<03:23,  5.09s/it, longppl=2.43, ppl=3.77]\n",
      " 22%|██▏       | 11/50 [01:03<03:08,  4.83s/it, longppl=2.43, ppl=3.77]\n",
      " 22%|██▏       | 11/50 [01:08<03:08,  4.83s/it, longppl=2.36, ppl=3.76]\n",
      " 24%|██▍       | 12/50 [01:08<03:04,  4.84s/it, longppl=2.36, ppl=3.76]\n",
      " 24%|██▍       | 12/50 [01:15<03:04,  4.84s/it, longppl=2.39, ppl=3.84]\n",
      " 26%|██▌       | 13/50 [01:15<03:22,  5.48s/it, longppl=2.39, ppl=3.84]\n",
      " 26%|██▌       | 13/50 [01:19<03:22,  5.48s/it, longppl=2.18, ppl=3.81]\n",
      " 28%|██▊       | 14/50 [01:19<03:07,  5.20s/it, longppl=2.18, ppl=3.81]\n",
      " 28%|██▊       | 14/50 [01:25<03:07,  5.20s/it, longppl=2.07, ppl=3.89]\n",
      " 30%|███       | 15/50 [01:25<03:11,  5.46s/it, longppl=2.07, ppl=3.89]\n",
      " 30%|███       | 15/50 [01:34<03:11,  5.46s/it, longppl=2.05, ppl=3.87]\n",
      " 32%|███▏      | 16/50 [01:34<03:39,  6.45s/it, longppl=2.05, ppl=3.87]\n",
      " 32%|███▏      | 16/50 [01:41<03:39,  6.45s/it, longppl=2.05, ppl=3.85]\n",
      " 34%|███▍      | 17/50 [01:41<03:36,  6.56s/it, longppl=2.05, ppl=3.85]\n",
      " 34%|███▍      | 17/50 [01:48<03:36,  6.56s/it, longppl=1.97, ppl=3.82]\n",
      " 36%|███▌      | 18/50 [01:48<03:39,  6.86s/it, longppl=1.97, ppl=3.82]\n",
      " 36%|███▌      | 18/50 [01:53<03:39,  6.86s/it, longppl=1.98, ppl=3.83]\n",
      " 38%|███▊      | 19/50 [01:53<03:06,  6.01s/it, longppl=1.98, ppl=3.83]\n",
      " 38%|███▊      | 19/50 [01:59<03:06,  6.01s/it, longppl=1.97, ppl=3.85]\n",
      " 40%|████      | 20/50 [01:59<03:03,  6.12s/it, longppl=1.97, ppl=3.85]\n",
      " 40%|████      | 20/50 [02:07<03:03,  6.12s/it, longppl=1.98, ppl=3.87]\n",
      " 42%|████▏     | 21/50 [02:07<03:16,  6.76s/it, longppl=1.98, ppl=3.87]\n",
      " 42%|████▏     | 21/50 [02:12<03:16,  6.76s/it, longppl=1.97, ppl=3.89]\n",
      " 44%|████▍     | 22/50 [02:12<02:49,  6.06s/it, longppl=1.97, ppl=3.89]\n",
      " 44%|████▍     | 22/50 [02:17<02:49,  6.06s/it, longppl=1.97, ppl=3.9] \n",
      " 46%|████▌     | 23/50 [02:17<02:39,  5.90s/it, longppl=1.97, ppl=3.9]\n",
      " 46%|████▌     | 23/50 [02:23<02:39,  5.90s/it, longppl=1.95, ppl=3.91]\n",
      " 48%|████▊     | 24/50 [02:23<02:34,  5.93s/it, longppl=1.95, ppl=3.91]\n",
      " 48%|████▊     | 24/50 [02:28<02:34,  5.93s/it, longppl=1.95, ppl=3.9] \n",
      " 50%|█████     | 25/50 [02:28<02:18,  5.56s/it, longppl=1.95, ppl=3.9]\n",
      " 50%|█████     | 25/50 [02:33<02:18,  5.56s/it, longppl=1.94, ppl=3.89]\n",
      " 52%|█████▏    | 26/50 [02:33<02:11,  5.48s/it, longppl=1.94, ppl=3.89]\n",
      " 52%|█████▏    | 26/50 [02:38<02:11,  5.48s/it, longppl=1.93, ppl=3.88]\n",
      " 54%|█████▍    | 27/50 [02:38<02:02,  5.35s/it, longppl=1.93, ppl=3.88]\n",
      " 54%|█████▍    | 27/50 [02:43<02:02,  5.35s/it, longppl=1.94, ppl=3.86]\n",
      " 56%|█████▌    | 28/50 [02:43<01:51,  5.06s/it, longppl=1.94, ppl=3.86]\n",
      " 56%|█████▌    | 28/50 [02:46<01:51,  5.06s/it, longppl=1.94, ppl=3.87]\n",
      " 58%|█████▊    | 29/50 [02:46<01:38,  4.69s/it, longppl=1.94, ppl=3.87]\n",
      " 58%|█████▊    | 29/50 [02:51<01:38,  4.69s/it, longppl=1.93, ppl=3.88]\n",
      " 60%|██████    | 30/50 [02:51<01:33,  4.70s/it, longppl=1.93, ppl=3.88]\n",
      " 60%|██████    | 30/50 [02:55<01:33,  4.70s/it, longppl=1.93, ppl=3.92]\n",
      " 62%|██████▏   | 31/50 [02:55<01:25,  4.50s/it, longppl=1.93, ppl=3.92]\n",
      " 62%|██████▏   | 31/50 [02:59<01:25,  4.50s/it, longppl=1.93, ppl=3.93]\n",
      " 64%|██████▍   | 32/50 [02:59<01:20,  4.45s/it, longppl=1.93, ppl=3.93]\n",
      " 64%|██████▍   | 32/50 [03:05<01:20,  4.45s/it, longppl=1.92, ppl=3.91]\n",
      " 66%|██████▌   | 33/50 [03:05<01:21,  4.80s/it, longppl=1.92, ppl=3.91]\n",
      " 66%|██████▌   | 33/50 [03:10<01:21,  4.80s/it, longppl=1.92, ppl=3.91]\n",
      " 68%|██████▊   | 34/50 [03:10<01:18,  4.90s/it, longppl=1.92, ppl=3.91]\n",
      " 68%|██████▊   | 34/50 [03:17<01:18,  4.90s/it, longppl=1.92, ppl=3.93]\n",
      " 70%|███████   | 35/50 [03:17<01:23,  5.59s/it, longppl=1.92, ppl=3.93]\n",
      " 70%|███████   | 35/50 [03:22<01:23,  5.59s/it, longppl=1.91, ppl=3.99]\n",
      " 72%|███████▏  | 36/50 [03:22<01:16,  5.43s/it, longppl=1.91, ppl=3.99]\n",
      " 72%|███████▏  | 36/50 [03:29<01:16,  5.43s/it, longppl=1.92, ppl=4.03]\n",
      " 74%|███████▍  | 37/50 [03:29<01:13,  5.69s/it, longppl=1.92, ppl=4.03]\n",
      " 74%|███████▍  | 37/50 [03:33<01:13,  5.69s/it, longppl=1.92, ppl=4.06]\n",
      " 76%|███████▌  | 38/50 [03:33<01:03,  5.25s/it, longppl=1.92, ppl=4.06]\n",
      " 76%|███████▌  | 38/50 [03:38<01:03,  5.25s/it, longppl=1.92, ppl=4.06]\n",
      " 78%|███████▊  | 39/50 [03:38<00:55,  5.05s/it, longppl=1.92, ppl=4.06]\n",
      " 78%|███████▊  | 39/50 [03:42<00:55,  5.05s/it, longppl=1.93, ppl=4.1] \n",
      " 80%|████████  | 40/50 [03:42<00:48,  4.90s/it, longppl=1.93, ppl=4.1]\n",
      " 80%|████████  | 40/50 [03:48<00:48,  4.90s/it, longppl=1.92, ppl=4.12]\n",
      " 82%|████████▏ | 41/50 [03:48<00:48,  5.35s/it, longppl=1.92, ppl=4.12]\n",
      " 82%|████████▏ | 41/50 [03:57<00:48,  5.35s/it, longppl=1.93, ppl=4.06]\n",
      " 84%|████████▍ | 42/50 [03:57<00:49,  6.22s/it, longppl=1.93, ppl=4.06]\n",
      " 84%|████████▍ | 42/50 [04:01<00:49,  6.22s/it, longppl=1.89, ppl=4.1] \n",
      " 86%|████████▌ | 43/50 [04:01<00:40,  5.79s/it, longppl=1.89, ppl=4.1]\n",
      " 86%|████████▌ | 43/50 [04:06<00:40,  5.79s/it, longppl=1.9, ppl=4.09]\n",
      " 88%|████████▊ | 44/50 [04:06<00:32,  5.46s/it, longppl=1.9, ppl=4.09]\n",
      " 88%|████████▊ | 44/50 [04:13<00:32,  5.46s/it, longppl=1.89, ppl=4.09]\n",
      " 90%|█████████ | 45/50 [04:13<00:29,  6.00s/it, longppl=1.89, ppl=4.09]\n",
      " 90%|█████████ | 45/50 [04:19<00:29,  6.00s/it, longppl=1.89, ppl=4.08]\n",
      " 92%|█████████▏| 46/50 [04:19<00:23,  5.84s/it, longppl=1.89, ppl=4.08]\n",
      " 92%|█████████▏| 46/50 [04:25<00:23,  5.84s/it, longppl=1.85, ppl=4.04]\n",
      " 94%|█████████▍| 47/50 [04:25<00:18,  6.05s/it, longppl=1.85, ppl=4.04]\n"
     ]
    }
   ],
   "source": [
    "with open(\"./mis.log\",\"r\") as f:\n",
    "    print(f.read())"
   ]
  },
  {
   "cell_type": "code",
   "execution_count": null,
   "metadata": {},
   "outputs": [],
   "source": []
  }
 ],
 "metadata": {
  "kernelspec": {
   "display_name": "zecheng",
   "language": "python",
   "name": "python3"
  },
  "language_info": {
   "codemirror_mode": {
    "name": "ipython",
    "version": 3
   },
   "file_extension": ".py",
   "mimetype": "text/x-python",
   "name": "python",
   "nbconvert_exporter": "python",
   "pygments_lexer": "ipython3",
   "version": "3.10.4"
  }
 },
 "nbformat": 4,
 "nbformat_minor": 2
}
