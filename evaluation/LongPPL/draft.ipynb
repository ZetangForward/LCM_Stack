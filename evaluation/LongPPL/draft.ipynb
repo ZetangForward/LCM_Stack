{
 "cells": [
  {
   "cell_type": "code",
   "execution_count": 13,
   "metadata": {},
   "outputs": [],
   "source": [
    "from datasets import load_dataset\n",
    "\n",
    "\n",
    "\n",
    "input_texts = load_dataset(\"/mnt/petrelfs/tangzecheng/LCM_Stack/evaluation/LongPPL/data/govreport-test-tokenized\")"
   ]
  },
  {
   "cell_type": "code",
   "execution_count": 14,
   "metadata": {},
   "outputs": [],
   "source": [
    "s = input_texts[\"test\"][:50]"
   ]
  },
  {
   "cell_type": "code",
   "execution_count": 15,
   "metadata": {},
   "outputs": [],
   "source": [
    "st = set()\n",
    "for i in range(50):\n",
    "    st.add(len(s['input_ids'][i]))"
   ]
  },
  {
   "cell_type": "code",
   "execution_count": 17,
   "metadata": {},
   "outputs": [
    {
     "data": {
      "text/plain": [
       "[1970,\n",
       " 2544,\n",
       " 4690,\n",
       " 5797,\n",
       " 5834,\n",
       " 5977,\n",
       " 6024,\n",
       " 6168,\n",
       " 6811,\n",
       " 6867,\n",
       " 7536,\n",
       " 7551,\n",
       " 7763,\n",
       " 8055,\n",
       " 8073,\n",
       " 8392,\n",
       " 9242,\n",
       " 9378,\n",
       " 9703,\n",
       " 9905,\n",
       " 9955,\n",
       " 10133,\n",
       " 10242,\n",
       " 10337,\n",
       " 10681,\n",
       " 10939,\n",
       " 10944,\n",
       " 10974,\n",
       " 11302,\n",
       " 11441,\n",
       " 12339,\n",
       " 12426,\n",
       " 12697,\n",
       " 13155,\n",
       " 13156,\n",
       " 13843,\n",
       " 16090,\n",
       " 17016,\n",
       " 17577,\n",
       " 17840,\n",
       " 18015,\n",
       " 18731,\n",
       " 18831,\n",
       " 20403,\n",
       " 22033,\n",
       " 24615,\n",
       " 27612,\n",
       " 27617,\n",
       " 35333,\n",
       " 52325]"
      ]
     },
     "execution_count": 17,
     "metadata": {},
     "output_type": "execute_result"
    }
   ],
   "source": [
    "sorted(st)"
   ]
  },
  {
   "cell_type": "code",
   "execution_count": 2,
   "metadata": {},
   "outputs": [
    {
     "data": {
      "text/html": [
       "<div>\n",
       "<style scoped>\n",
       "    .dataframe tbody tr th:only-of-type {\n",
       "        vertical-align: middle;\n",
       "    }\n",
       "\n",
       "    .dataframe tbody tr th {\n",
       "        vertical-align: top;\n",
       "    }\n",
       "\n",
       "    .dataframe thead th {\n",
       "        text-align: right;\n",
       "    }\n",
       "</style>\n",
       "<table border=\"1\" class=\"dataframe\">\n",
       "  <thead>\n",
       "    <tr style=\"text-align: right;\">\n",
       "      <th></th>\n",
       "      <th>Unnamed: 0</th>\n",
       "      <th>longppl</th>\n",
       "      <th>ppl</th>\n",
       "    </tr>\n",
       "  </thead>\n",
       "  <tbody>\n",
       "    <tr>\n",
       "      <th>0</th>\n",
       "      <td>0</td>\n",
       "      <td>5.21</td>\n",
       "      <td>7.26</td>\n",
       "    </tr>\n",
       "  </tbody>\n",
       "</table>\n",
       "</div>"
      ],
      "text/plain": [
       "   Unnamed: 0  longppl   ppl\n",
       "0           0     5.21  7.26"
      ]
     },
     "execution_count": 2,
     "metadata": {},
     "output_type": "execute_result"
    }
   ],
   "source": [
    "import pandas as pd\n",
    "\n",
    "pd.read_csv(\"./results/full_v1-global_step150/ppls.csv\")"
   ]
  },
  {
   "cell_type": "code",
   "execution_count": 24,
   "metadata": {},
   "outputs": [
    {
     "data": {
      "text/plain": [
       "dict_keys(['id', 'pid', 'input', 'output', 'input_ids', 'attention_mask', 'tokenized_len'])"
      ]
     },
     "execution_count": 24,
     "metadata": {},
     "output_type": "execute_result"
    }
   ],
   "source": [
    "s.keys()"
   ]
  },
  {
   "cell_type": "code",
   "execution_count": 30,
   "metadata": {},
   "outputs": [
    {
     "data": {
      "text/plain": [
       "[50, 50, 50, 50, 50, 50, 50]"
      ]
     },
     "execution_count": 30,
     "metadata": {},
     "output_type": "execute_result"
    }
   ],
   "source": [
    "[len(v) for v in s.values()]"
   ]
  },
  {
   "cell_type": "code",
   "execution_count": 2,
   "metadata": {},
   "outputs": [
    {
     "name": "stdout",
     "output_type": "stream",
     "text": [
      "nohup: 忽略输入\n",
      "Adapter Path:  \n",
      "Pid: 49973\n",
      "begin to eval on 2 gpus | tensor parallel size is 1...\n",
      "split_gpu_list: ['6', '7']\n",
      "\n",
      "Filter:   0%|          | 0/973 [00:00<?, ? examples/s]\n",
      "Filter: 100%|██████████| 973/973 [00:10<00:00, 88.50 examples/s]\n",
      "Filter: 100%|██████████| 973/973 [00:11<00:00, 88.42 examples/s]\n",
      "The model was loaded with use_flash_attention_2=True, which is deprecated and may be removed in a future release. Please use `attn_implementation=\"flash_attention_2\"` instead.\n",
      "\n",
      "Loading checkpoint shards:   0%|          | 0/4 [00:00<?, ?it/s]\n",
      "Loading checkpoint shards:  25%|██▌       | 1/4 [00:01<00:05,  1.92s/it]\n",
      "Loading checkpoint shards:  50%|█████     | 2/4 [00:03<00:03,  1.84s/it]\n",
      "Loading checkpoint shards:  75%|███████▌  | 3/4 [00:05<00:01,  1.81s/it]The model was loaded with use_flash_attention_2=True, which is deprecated and may be removed in a future release. Please use `attn_implementation=\"flash_attention_2\"` instead.\n",
      "\n",
      "Loading checkpoint shards: 100%|██████████| 4/4 [00:05<00:00,  1.28s/it]\n",
      "Loading checkpoint shards: 100%|██████████| 4/4 [00:05<00:00,  1.49s/it]\n",
      "\n",
      "Loading checkpoint shards:   0%|          | 0/4 [00:00<?, ?it/s]\n",
      "Loading checkpoint shards:  25%|██▌       | 1/4 [00:02<00:07,  2.37s/it]model_config: None\n",
      "\n",
      "  0%|          | 0/25 [00:00<?, ?it/s]\n",
      "Loading checkpoint shards:  50%|█████     | 2/4 [00:04<00:04,  2.20s/it]\n",
      "Loading checkpoint shards:  75%|███████▌  | 3/4 [00:06<00:02,  2.09s/it]\n",
      "  0%|          | 0/25 [00:03<?, ?it/s, longppl=2.86, ppl=5.55]\n",
      "  4%|▍         | 1/25 [00:03<01:27,  3.64s/it, longppl=2.86, ppl=5.55]\n",
      "Loading checkpoint shards: 100%|██████████| 4/4 [00:06<00:00,  1.50s/it]\n",
      "Loading checkpoint shards: 100%|██████████| 4/4 [00:06<00:00,  1.75s/it]\n",
      "\n",
      "  4%|▍         | 1/25 [00:07<01:27,  3.64s/it, longppl=3.04, ppl=6.35]\n",
      "  8%|▊         | 2/25 [00:07<01:24,  3.69s/it, longppl=3.04, ppl=6.35]\n",
      "  8%|▊         | 2/25 [00:09<01:24,  3.69s/it, longppl=3.15, ppl=6.12]\n",
      " 12%|█▏        | 3/25 [00:09<01:04,  2.93s/it, longppl=3.15, ppl=6.12]model_config: None\n",
      "\n",
      "  0%|          | 0/25 [00:00<?, ?it/s]\n",
      " 12%|█▏        | 3/25 [00:13<01:04,  2.93s/it, longppl=3.25, ppl=5.88]\n",
      " 16%|█▌        | 4/25 [00:13<01:10,  3.35s/it, longppl=3.25, ppl=5.88]\n",
      "  0%|          | 0/25 [00:03<?, ?it/s, longppl=3.49, ppl=5.19]\n",
      "  4%|▍         | 1/25 [00:03<01:26,  3.60s/it, longppl=3.49, ppl=5.19]\n",
      "  4%|▍         | 1/25 [00:06<01:26,  3.60s/it, longppl=3.27, ppl=5.03]\n",
      "  8%|▊         | 2/25 [00:06<01:07,  2.94s/it, longppl=3.27, ppl=5.03]\n",
      " 16%|█▌        | 4/25 [00:16<01:10,  3.35s/it, longppl=3.19, ppl=5.13]\n",
      " 20%|██        | 5/25 [00:16<01:03,  3.19s/it, longppl=3.19, ppl=5.13]\n",
      " 20%|██        | 5/25 [00:18<01:03,  3.19s/it, longppl=3.12, ppl=5.26]\n",
      " 24%|██▍       | 6/25 [00:18<00:52,  2.77s/it, longppl=3.12, ppl=5.26]\n",
      "  8%|▊         | 2/25 [00:08<01:07,  2.94s/it, longppl=3.18, ppl=4.89]\n",
      " 12%|█▏        | 3/25 [00:08<00:56,  2.57s/it, longppl=3.18, ppl=4.89]\n",
      " 12%|█▏        | 3/25 [00:10<00:56,  2.57s/it, longppl=3.58, ppl=5.19]\n",
      " 16%|█▌        | 4/25 [00:10<00:49,  2.35s/it, longppl=3.58, ppl=5.19]\n",
      " 24%|██▍       | 6/25 [00:21<00:52,  2.77s/it, longppl=3.11, ppl=5.42]\n",
      " 28%|██▊       | 7/25 [00:21<00:50,  2.78s/it, longppl=3.11, ppl=5.42]\n",
      " 16%|█▌        | 4/25 [00:12<00:49,  2.35s/it, longppl=3.51, ppl=5.27]\n",
      " 20%|██        | 5/25 [00:12<00:48,  2.44s/it, longppl=3.51, ppl=5.27]\n",
      " 28%|██▊       | 7/25 [00:23<00:50,  2.78s/it, longppl=3.19, ppl=5.5] \n",
      " 32%|███▏      | 8/25 [00:23<00:43,  2.59s/it, longppl=3.19, ppl=5.5]\n",
      " 20%|██        | 5/25 [00:14<00:48,  2.44s/it, longppl=4.19, ppl=5.85]\n",
      " 24%|██▍       | 6/25 [00:14<00:43,  2.30s/it, longppl=4.19, ppl=5.85]\n",
      " 32%|███▏      | 8/25 [00:25<00:43,  2.59s/it, longppl=3.21, ppl=5.47]\n",
      " 36%|███▌      | 9/25 [00:25<00:41,  2.56s/it, longppl=3.21, ppl=5.47]\n",
      " 24%|██▍       | 6/25 [00:17<00:43,  2.30s/it, longppl=5.22, ppl=5.88]\n",
      " 28%|██▊       | 7/25 [00:17<00:40,  2.27s/it, longppl=5.22, ppl=5.88]\n",
      " 36%|███▌      | 9/25 [00:27<00:41,  2.56s/it, longppl=3.2, ppl=5.58] \n",
      " 40%|████      | 10/25 [00:27<00:36,  2.40s/it, longppl=3.2, ppl=5.58]\n",
      " 28%|██▊       | 7/25 [00:19<00:40,  2.27s/it, longppl=4.78, ppl=5.7] \n",
      " 32%|███▏      | 8/25 [00:19<00:40,  2.37s/it, longppl=4.78, ppl=5.7]\n",
      " 40%|████      | 10/25 [00:29<00:36,  2.40s/it, longppl=3.12, ppl=5.5]\n",
      " 44%|████▍     | 11/25 [00:29<00:32,  2.29s/it, longppl=3.12, ppl=5.5]\n",
      " 44%|████▍     | 11/25 [00:32<00:32,  2.29s/it, longppl=2.99, ppl=5.49]\n",
      " 48%|████▊     | 12/25 [00:32<00:29,  2.28s/it, longppl=2.99, ppl=5.49]\n",
      " 32%|███▏      | 8/25 [00:22<00:40,  2.37s/it, longppl=4.64, ppl=5.75]\n",
      " 36%|███▌      | 9/25 [00:22<00:39,  2.45s/it, longppl=4.64, ppl=5.75]\n",
      " 48%|████▊     | 12/25 [00:35<00:29,  2.28s/it, longppl=3.11, ppl=5.63]\n",
      " 52%|█████▏    | 13/25 [00:35<00:30,  2.57s/it, longppl=3.11, ppl=5.63]\n",
      " 36%|███▌      | 9/25 [00:25<00:39,  2.45s/it, longppl=4.61, ppl=5.86]\n",
      " 40%|████      | 10/25 [00:25<00:40,  2.70s/it, longppl=4.61, ppl=5.86]\n",
      " 52%|█████▏    | 13/25 [00:37<00:30,  2.57s/it, longppl=2.77, ppl=5.58]\n",
      " 56%|█████▌    | 14/25 [00:37<00:26,  2.39s/it, longppl=2.77, ppl=5.58]\n",
      " 40%|████      | 10/25 [00:28<00:40,  2.70s/it, longppl=4.66, ppl=6.22]\n",
      " 44%|████▍     | 11/25 [00:28<00:36,  2.64s/it, longppl=4.66, ppl=6.22]\n",
      " 56%|█████▌    | 14/25 [00:40<00:26,  2.39s/it, longppl=2.58, ppl=5.68]\n",
      " 60%|██████    | 15/25 [00:40<00:26,  2.69s/it, longppl=2.58, ppl=5.68]\n",
      " 44%|████▍     | 11/25 [00:30<00:36,  2.64s/it, longppl=4.74, ppl=6.39]\n",
      " 48%|████▊     | 12/25 [00:30<00:35,  2.73s/it, longppl=4.74, ppl=6.39]\n",
      " 48%|████▊     | 12/25 [00:33<00:35,  2.73s/it, longppl=4.77, ppl=6.51]\n",
      " 52%|█████▏    | 13/25 [00:33<00:33,  2.78s/it, longppl=4.77, ppl=6.51]\n",
      " 60%|██████    | 15/25 [00:44<00:26,  2.69s/it, longppl=2.55, ppl=5.66]\n",
      " 64%|██████▍   | 16/25 [00:44<00:26,  3.00s/it, longppl=2.55, ppl=5.66]\n",
      " 52%|█████▏    | 13/25 [00:36<00:33,  2.78s/it, longppl=4.9, ppl=6.48] \n",
      " 56%|█████▌    | 14/25 [00:36<00:29,  2.64s/it, longppl=4.9, ppl=6.48]\n",
      " 64%|██████▍   | 16/25 [00:47<00:26,  3.00s/it, longppl=2.55, ppl=5.63]\n",
      " 68%|██████▊   | 17/25 [00:47<00:23,  3.00s/it, longppl=2.55, ppl=5.63]\n",
      " 56%|█████▌    | 14/25 [00:38<00:29,  2.64s/it, longppl=5.22, ppl=6.66]\n",
      " 60%|██████    | 15/25 [00:38<00:25,  2.54s/it, longppl=5.22, ppl=6.66]\n",
      " 68%|██████▊   | 17/25 [00:51<00:23,  3.00s/it, longppl=2.49, ppl=5.6] \n",
      " 72%|███████▏  | 18/25 [00:51<00:22,  3.24s/it, longppl=2.49, ppl=5.6]\n",
      " 60%|██████    | 15/25 [00:41<00:25,  2.54s/it, longppl=5.62, ppl=6.68]\n",
      " 64%|██████▍   | 16/25 [00:41<00:24,  2.72s/it, longppl=5.62, ppl=6.68]\n",
      " 72%|███████▏  | 18/25 [00:53<00:22,  3.24s/it, longppl=2.48, ppl=5.59]\n",
      " 76%|███████▌  | 19/25 [00:53<00:17,  2.89s/it, longppl=2.48, ppl=5.59]\n",
      " 64%|██████▍   | 16/25 [00:45<00:24,  2.72s/it, longppl=5.6, ppl=6.37] \n",
      " 68%|██████▊   | 17/25 [00:45<00:24,  3.02s/it, longppl=5.6, ppl=6.37]\n",
      " 76%|███████▌  | 19/25 [00:56<00:17,  2.89s/it, longppl=2.47, ppl=5.64]\n",
      " 80%|████████  | 20/25 [00:56<00:14,  2.91s/it, longppl=2.47, ppl=5.64]\n",
      " 68%|██████▊   | 17/25 [00:48<00:24,  3.02s/it, longppl=5.7, ppl=6.48]\n",
      " 72%|███████▏  | 18/25 [00:48<00:20,  2.93s/it, longppl=5.7, ppl=6.48]\n",
      " 80%|████████  | 20/25 [00:59<00:14,  2.91s/it, longppl=2.47, ppl=5.67]\n",
      " 84%|████████▍ | 21/25 [00:59<00:12,  3.16s/it, longppl=2.47, ppl=5.67]\n",
      " 72%|███████▏  | 18/25 [00:50<00:20,  2.93s/it, longppl=5.59, ppl=6.43]\n",
      " 76%|███████▌  | 19/25 [00:50<00:16,  2.74s/it, longppl=5.59, ppl=6.43]\n",
      " 84%|████████▍ | 21/25 [01:02<00:12,  3.16s/it, longppl=2.45, ppl=5.69]\n",
      " 88%|████████▊ | 22/25 [01:02<00:08,  2.89s/it, longppl=2.45, ppl=5.69]\n",
      " 76%|███████▌  | 19/25 [00:54<00:16,  2.74s/it, longppl=5.56, ppl=6.41]\n",
      " 80%|████████  | 20/25 [00:54<00:15,  3.07s/it, longppl=5.56, ppl=6.41]\n",
      " 88%|████████▊ | 22/25 [01:04<00:08,  2.89s/it, longppl=2.45, ppl=5.72]\n",
      " 92%|█████████▏| 23/25 [01:04<00:05,  2.79s/it, longppl=2.45, ppl=5.72]\n",
      " 80%|████████  | 20/25 [00:56<00:15,  3.07s/it, longppl=5.54, ppl=6.38]\n",
      " 84%|████████▍ | 21/25 [00:56<00:11,  2.96s/it, longppl=5.54, ppl=6.38]\n",
      " 92%|█████████▏| 23/25 [01:07<00:05,  2.79s/it, longppl=2.41, ppl=5.74]\n",
      " 96%|█████████▌| 24/25 [01:07<00:02,  2.79s/it, longppl=2.41, ppl=5.74]\n",
      " 84%|████████▍ | 21/25 [00:59<00:11,  2.96s/it, longppl=5.31, ppl=6.23]\n",
      " 88%|████████▊ | 22/25 [00:59<00:08,  2.90s/it, longppl=5.31, ppl=6.23]\n",
      " 96%|█████████▌| 24/25 [01:09<00:02,  2.79s/it, longppl=2.44, ppl=5.72]\n",
      "100%|██████████| 25/25 [01:09<00:00,  2.65s/it, longppl=2.44, ppl=5.72]\n",
      "100%|██████████| 25/25 [01:09<00:00,  2.79s/it, longppl=2.44, ppl=5.72]\n",
      "\n",
      " 88%|████████▊ | 22/25 [01:03<00:08,  2.90s/it, longppl=5.22, ppl=6.17]\n",
      " 92%|█████████▏| 23/25 [01:03<00:06,  3.14s/it, longppl=5.22, ppl=6.17]\n",
      " 92%|█████████▏| 23/25 [01:05<00:06,  3.14s/it, longppl=5.35, ppl=6.18]\n",
      " 96%|█████████▌| 24/25 [01:05<00:02,  2.88s/it, longppl=5.35, ppl=6.18]\n",
      " 96%|█████████▌| 24/25 [01:08<00:02,  2.88s/it, longppl=5.31, ppl=6.11]\n",
      "100%|██████████| 25/25 [01:08<00:00,  2.79s/it, longppl=5.31, ppl=6.11]\n",
      "100%|██████████| 25/25 [01:08<00:00,  2.73s/it, longppl=5.31, ppl=6.11]\n",
      "保存成功: ./results/Llama-3.1-8B-Instruct-full_v4/ppls.csv\n",
      "\n"
     ]
    }
   ],
   "source": [
    "with open(\"./3_full_v4.log\",\"r\") as f:\n",
    "    print(f.read())"
   ]
  },
  {
   "cell_type": "code",
   "execution_count": null,
   "metadata": {},
   "outputs": [],
   "source": []
  }
 ],
 "metadata": {
  "kernelspec": {
   "display_name": "zecheng",
   "language": "python",
   "name": "python3"
  },
  "language_info": {
   "codemirror_mode": {
    "name": "ipython",
    "version": 3
   },
   "file_extension": ".py",
   "mimetype": "text/x-python",
   "name": "python",
   "nbconvert_exporter": "python",
   "pygments_lexer": "ipython3",
   "version": "3.10.4"
  }
 },
 "nbformat": 4,
 "nbformat_minor": 2
}
